{
 "cells": [
  {
   "cell_type": "markdown",
   "metadata": {},
   "source": [
    "# Q. 1\n"
   ]
  },
  {
   "cell_type": "code",
   "execution_count": null,
   "metadata": {},
   "outputs": [],
   "source": [
    "RAINBOW is correct english word."
   ]
  },
  {
   "cell_type": "markdown",
   "metadata": {},
   "source": [
    "# Q.2"
   ]
  },
  {
   "cell_type": "code",
   "execution_count": 5,
   "metadata": {},
   "outputs": [
    {
     "name": "stdout",
     "output_type": "stream",
     "text": [
      "LETS UPGRADE.\n"
     ]
    }
   ],
   "source": [
    "print(\"LETS UPGRADE.\")"
   ]
  },
  {
   "cell_type": "markdown",
   "metadata": {},
   "source": [
    "# Q. 3"
   ]
  },
  {
   "cell_type": "markdown",
   "metadata": {},
   "source": [
    "1] case 1"
   ]
  },
  {
   "cell_type": "code",
   "execution_count": 3,
   "metadata": {},
   "outputs": [
    {
     "name": "stdout",
     "output_type": "stream",
     "text": [
      "First line 96\n",
      "Second line 100\n",
      "Profit\n"
     ]
    }
   ],
   "source": [
    "CostPrice= int(input(\"First line \"))\n",
    "SellingPrice= int(input(\"Second line \"))\n",
    "if(CostPrice<SellingPrice):\n",
    "    print(\"Profit\")\n",
    "elif(CostPrice>SellingPrice):\n",
    "    print(\"Loss\")\n",
    "else:\n",
    "    print(\"Neither\")\n"
   ]
  },
  {
   "cell_type": "markdown",
   "metadata": {},
   "source": [
    "2] case 2"
   ]
  },
  {
   "cell_type": "code",
   "execution_count": 4,
   "metadata": {},
   "outputs": [
    {
     "name": "stdout",
     "output_type": "stream",
     "text": [
      "First line 110\n",
      "Second line 120\n",
      "Profit\n"
     ]
    }
   ],
   "source": [
    "CostPrice= int(input(\"First line \"))\n",
    "SellingPrice= int(input(\"Second line \"))\n",
    "if(CostPrice<SellingPrice):\n",
    "    print(\"Profit\")\n",
    "elif(CostPrice>SellingPrice):\n",
    "    print(\"Loss\")\n",
    "else:\n",
    "    print(\"Neither\")\n"
   ]
  },
  {
   "cell_type": "markdown",
   "metadata": {},
   "source": [
    "3] case 3\n"
   ]
  },
  {
   "cell_type": "code",
   "execution_count": 5,
   "metadata": {},
   "outputs": [
    {
     "name": "stdout",
     "output_type": "stream",
     "text": [
      "First line 89\n",
      "Second line 70\n",
      "Loss\n"
     ]
    }
   ],
   "source": [
    "CostPrice= int(input(\"First line \"))\n",
    "SellingPrice= int(input(\"Second line \"))\n",
    "if(CostPrice<SellingPrice):\n",
    "    print(\"Profit\")\n",
    "elif(CostPrice>SellingPrice):\n",
    "    print(\"Loss\")\n",
    "else:\n",
    "    print(\"Neither\")\n"
   ]
  },
  {
   "cell_type": "markdown",
   "metadata": {},
   "source": [
    "4] case 4"
   ]
  },
  {
   "cell_type": "code",
   "execution_count": 6,
   "metadata": {},
   "outputs": [
    {
     "name": "stdout",
     "output_type": "stream",
     "text": [
      "First line 50\n",
      "Second line 45\n",
      "Loss\n"
     ]
    }
   ],
   "source": [
    "CostPrice= int(input(\"First line \"))\n",
    "SellingPrice= int(input(\"Second line \"))\n",
    "if(CostPrice<SellingPrice):\n",
    "    print(\"Profit\")\n",
    "elif(CostPrice>SellingPrice):\n",
    "    print(\"Loss\")\n",
    "else:\n",
    "    print(\"Neither\")\n"
   ]
  },
  {
   "cell_type": "markdown",
   "metadata": {},
   "source": [
    "5] case 5"
   ]
  },
  {
   "cell_type": "code",
   "execution_count": 15,
   "metadata": {},
   "outputs": [
    {
     "name": "stdout",
     "output_type": "stream",
     "text": [
      "First line 48\n",
      "Second line 48\n",
      "Neither\n"
     ]
    }
   ],
   "source": [
    "CostPrice= int(input(\"First line \"))\n",
    "SellingPrice= int(input(\"Second line \"))\n",
    "if(CostPrice<SellingPrice):\n",
    "    print(\"Profit\")\n",
    "elif(CostPrice>SellingPrice):\n",
    "    print(\"Loss\")\n",
    "else:\n",
    "    print(\"Neither\")\n"
   ]
  },
  {
   "cell_type": "markdown",
   "metadata": {},
   "source": [
    "6] case 6 "
   ]
  },
  {
   "cell_type": "code",
   "execution_count": 8,
   "metadata": {},
   "outputs": [
    {
     "name": "stdout",
     "output_type": "stream",
     "text": [
      "First line 32\n",
      "Second line 32\n",
      "Neither\n"
     ]
    }
   ],
   "source": [
    "CostPrice= int(input(\"First line \"))\n",
    "SellingPrice= int(input(\"Second line \"))\n",
    "if(CostPrice<SellingPrice):\n",
    "    print(\"Profit\")\n",
    "elif(CostPrice>SellingPrice):\n",
    "    print(\"Loss\")\n",
    "else:\n",
    "    print(\"Neither\")\n"
   ]
  },
  {
   "cell_type": "markdown",
   "metadata": {},
   "source": [
    " # Q. 4"
   ]
  },
  {
   "cell_type": "code",
   "execution_count": 46,
   "metadata": {},
   "outputs": [
    {
     "name": "stdout",
     "output_type": "stream",
     "text": [
      "indian rupees 95\n",
      "7600\n"
     ]
    }
   ],
   "source": [
    "Rupees=int(input(\"indian rupees \"))\n",
    "Euro=Rupees*80\n",
    "print(Euro)"
   ]
  },
  {
   "cell_type": "code",
   "execution_count": 47,
   "metadata": {},
   "outputs": [
    {
     "name": "stdout",
     "output_type": "stream",
     "text": [
      "indian rupees 85\n",
      "6800\n"
     ]
    }
   ],
   "source": [
    "Rupees=int(input(\"indian rupees \"))\n",
    "Euro=Rupees*80\n",
    "print(Euro)"
   ]
  },
  {
   "cell_type": "code",
   "execution_count": 48,
   "metadata": {},
   "outputs": [
    {
     "name": "stdout",
     "output_type": "stream",
     "text": [
      "indian rupees 6\n",
      "480\n"
     ]
    }
   ],
   "source": [
    "Rupees=int(input(\"indian rupees \"))\n",
    "Euro=Rupees*80\n",
    "print(Euro)"
   ]
  },
  {
   "cell_type": "code",
   "execution_count": 49,
   "metadata": {},
   "outputs": [
    {
     "name": "stdout",
     "output_type": "stream",
     "text": [
      "indian rupees 34\n",
      "2720\n"
     ]
    }
   ],
   "source": [
    "Rupees=int(input(\"indian rupees \"))\n",
    "Euro=Rupees*80\n",
    "print(Euro)"
   ]
  }
 ],
 "metadata": {
  "kernelspec": {
   "display_name": "Python 3",
   "language": "python",
   "name": "python3"
  },
  "language_info": {
   "codemirror_mode": {
    "name": "ipython",
    "version": 3
   },
   "file_extension": ".py",
   "mimetype": "text/x-python",
   "name": "python",
   "nbconvert_exporter": "python",
   "pygments_lexer": "ipython3",
   "version": "3.8.6"
  }
 },
 "nbformat": 4,
 "nbformat_minor": 4
}
